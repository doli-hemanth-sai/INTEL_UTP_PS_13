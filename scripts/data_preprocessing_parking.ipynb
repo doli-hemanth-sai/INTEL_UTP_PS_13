{
 "cells": [
  {
   "cell_type": "markdown",
   "metadata": {},
   "source": [
    "## Dataset"
   ]
  },
  {
   "cell_type": "markdown",
   "metadata": {},
   "source": [
    "[The dataset](https://www.kaggle.com/datasets/blanderbuss/parking-lot-dataset) consists of multiple images from parking lots in different moments (cloudy, sunny, rainy).\n",
    "\n",
    "The model shouldn't be affected by the weather conditions or location, so we will combine all the images and split them up in a 'train', 'test' and 'val' folder.\n",
    "\n",
    "Since we are going to use YOLOv8, the labels also need to be in a specific format. We will use the script provided to convert the labels (xml) to the required format."
   ]
  },
  {
   "cell_type": "markdown",
   "metadata": {},
   "source": [
    "If you're running this project for yourself:\n",
    "\n",
    "- Download the data from the provided link (see \"Dataset\" section)\n",
    "- Place it in the same directory as this notebook in \"/data\"\n",
    "- Make sure that the name of the zip folder is \"archive.zip\"\n",
    "- Run the notebook\n",
    "\n",
    "All the folders needed will be created automatically and the data will be processed and saved in the correct folders."
   ]
  },
  {
   "cell_type": "markdown",
   "metadata": {},
   "source": [
    "## Data Preprocessing"
   ]
  },
  {
   "cell_type": "code",
   "execution_count": 1,
   "metadata": {},
   "outputs": [],
   "source": [
    "import zipfile\n",
    "\n",
    "path_to_zip_file = \"data/archive.zip\"\n",
    "directory_to_extract_to = \"data/\"\n",
    "\n",
    "with zipfile.ZipFile(path_to_zip_file, 'r') as zip_ref:\n",
    "    zip_ref.extractall(directory_to_extract_to)"
   ]
  },
  {
   "cell_type": "markdown",
   "metadata": {},
   "source": [
    "### Merge all folders into one"
   ]
  },
  {
   "cell_type": "code",
   "execution_count": 2,
   "metadata": {},
   "outputs": [
    {
     "name": "stdout",
     "output_type": "stream",
     "text": [
      "Contents merged successfully.\n"
     ]
    }
   ],
   "source": [
    "import os\n",
    "import shutil\n",
    "\n",
    "source_folders = [\n",
    "    \"data/PKLot/PKLot/PKLot/PUCPR/Cloudy\",\n",
    "    \"data/PKLot/PKLot/PKLot/PUCPR/Sunny\",\n",
    "    \"data/PKLot/PKLot/PKLot/PUCPR/Rainy\",\n",
    "    \"data/PKLot/PKLot/PKLot/UFPR04/Cloudy\",\n",
    "    \"data/PKLot/PKLot/PKLot/UFPR04/Sunny\",\n",
    "    \"data/PKLot/PKLot/PKLot/UFPR04/Rainy\",\n",
    "    \"data/PKLot/PKLot/PKLot/UFPR05/Cloudy\",\n",
    "    \"data/PKLot/PKLot/PKLot/UFPR05/Sunny\",\n",
    "    \"data/PKLot/PKLot/PKLot/UFPR05/Rainy\"\n",
    "]\n",
    "\n",
    "destination_folder = \"data/total-content\"\n",
    "\n",
    "if not os.path.exists(destination_folder):\n",
    "    os.makedirs(destination_folder)\n",
    "\n",
    "# Iterate through source folders and merge contents\n",
    "for source_folder in source_folders:\n",
    "    for root, _, files in os.walk(source_folder):\n",
    "        for file in files:\n",
    "            source_file_path = os.path.join(root, file)\n",
    "            destination_file_path = os.path.join(destination_folder, file)\n",
    "            shutil.copy(source_file_path, destination_file_path)\n",
    "\n",
    "print(\"Contents merged successfully.\")"
   ]
  },
  {
   "cell_type": "markdown",
   "metadata": {},
   "source": [
    "### Modify labels"
   ]
  },
  {
   "cell_type": "markdown",
   "metadata": {},
   "source": [
    "We also need to modify the labels to be in the same format as YOLOv8 requires. Our labels right now are in xml format, YOLOv8 need it in a txt file with the following format:\n",
    "```\n",
    "class x_center y_center width height\n",
    "```\n",
    "\n",
    "The next cell will convert the xml labels to txt labels and move the xml files since we don't need them."
   ]
  },
  {
   "cell_type": "markdown",
   "metadata": {},
   "source": [
    "The ``image_height`` and ``image_width`` need to be the height and the width of the image (as obvious as that sounds). This is because when converting from xml, we want to convert the bounding box coordinates to be relative to the image size. This is done by dividing the bounding box coordinates by the image size. This is also why we need to know the image size. (1280x720 in this case)"
   ]
  },
  {
   "cell_type": "code",
   "execution_count": 3,
   "metadata": {},
   "outputs": [
    {
     "name": "stdout",
     "output_type": "stream",
     "text": [
      "Annotations generated and XML files moved.\n"
     ]
    }
   ],
   "source": [
    "import xml.etree.ElementTree as ET\n",
    "\n",
    "input_folder = \"data/total-content\"\n",
    "output_folder = \"data/labels-xml\"\n",
    "\n",
    "image_width = 1280\n",
    "image_height = 720\n",
    "\n",
    "class_mapping = {\"1\": 1, \"0\": 0}\n",
    "\n",
    "if not os.path.exists(output_folder):\n",
    "    os.makedirs(output_folder)\n",
    "\n",
    "xml_files = [f for f in os.listdir(input_folder) if f.endswith(\".xml\")]\n",
    "for xml_file in xml_files:\n",
    "    xml_path = os.path.join(input_folder, xml_file)\n",
    "    \n",
    "    tree = ET.parse(xml_path)\n",
    "    root = tree.getroot()\n",
    "    \n",
    "    txt_filename = os.path.splitext(xml_file)[0] + \".txt\"\n",
    "    txt_path = os.path.join(output_folder, txt_filename)\n",
    "\n",
    "    with open(txt_path, \"w\") as txt_file:\n",
    "        for space in root.findall(\"space\"):\n",
    "            occupied = space.get(\"occupied\")\n",
    "            class_index = class_mapping.get(occupied, -1)\n",
    "            \n",
    "            if class_index == -1:\n",
    "                continue\n",
    "            \n",
    "            rotated_rect = space.find(\"rotatedRect\")\n",
    "            center = rotated_rect.find(\"center\")\n",
    "            size = rotated_rect.find(\"size\")\n",
    "            \n",
    "            center_x = float(center.get(\"x\"))\n",
    "            center_y = float(center.get(\"y\"))\n",
    "            width = float(size.get(\"w\"))\n",
    "            height = float(size.get(\"h\"))\n",
    "            \n",
    "            x_center = center_x / image_width\n",
    "            y_center = center_y / image_height\n",
    "            w = width / image_width\n",
    "            h = height / image_height\n",
    "            \n",
    "            txt_file.write(f\"{class_index} {x_center:.6f} {y_center:.6f} {w:.6f} {h:.6f}\\n\")\n",
    "    \n",
    "    new_xml_path = os.path.join(output_folder, xml_file)\n",
    "    os.rename(xml_path, new_xml_path)\n",
    "\n",
    "print(\"Annotations generated and XML files moved.\")"
   ]
  },
  {
   "cell_type": "code",
   "execution_count": 4,
   "metadata": {},
   "outputs": [
    {
     "name": "stdout",
     "output_type": "stream",
     "text": [
      "TXT files moved to data/total-content folder.\n"
     ]
    }
   ],
   "source": [
    "# Move the txt files from the xml folder to the total-content folder\n",
    "\n",
    "source_folder = \"data/labels-xml\"\n",
    "destination_folder = \"data/total-content\"\n",
    "\n",
    "txt_files = [f for f in os.listdir(source_folder) if f.endswith(\".txt\")]\n",
    "\n",
    "for txt_file in txt_files:\n",
    "    source_path = os.path.join(source_folder, txt_file)\n",
    "    destination_path = os.path.join(destination_folder, txt_file)\n",
    "    shutil.move(source_path, destination_path)\n",
    "\n",
    "print(\"TXT files moved to data/total-content folder.\")"
   ]
  },
  {
   "cell_type": "markdown",
   "metadata": {},
   "source": [
    "### Train - Test - Val folders split"
   ]
  },
  {
   "cell_type": "code",
   "execution_count": 8,
   "metadata": {},
   "outputs": [
    {
     "name": "stdout",
     "output_type": "stream",
     "text": [
      "File 'data/total-content/2012-11-06_18_48_46.jpg' has been removed successfully.\n",
      "Data split into train, test, and val sets.\n"
     ]
    }
   ],
   "source": [
    "import random\n",
    "import os\n",
    "\n",
    "# remove the image that has no corresponding txt file\n",
    "\n",
    "file_path = \"data/total-content/2012-11-06_18_48_46.jpg\"\n",
    "try:\n",
    "    os.remove(file_path)\n",
    "    print(f\"File '{file_path}' has been removed successfully.\")\n",
    "except OSError as e:\n",
    "    print(f\"Error removing the file '{file_path}': {e}\")\n",
    "\n",
    "\n",
    "source_folder = \"data/total-content\"\n",
    "train_folder = \"data/train\"\n",
    "test_folder = \"data/test\"\n",
    "val_folder = \"data/val\"\n",
    "\n",
    "train_ratio = 0.7\n",
    "test_ratio = 0.15\n",
    "val_ratio = 0.15\n",
    "\n",
    "for folder in [train_folder, test_folder, val_folder]:\n",
    "    if not os.path.exists(folder):\n",
    "        os.makedirs(folder)\n",
    "\n",
    "all_files = os.listdir(source_folder)\n",
    "image_files = [f for f in all_files if f.endswith(\".jpg\")]\n",
    "\n",
    "# Calculate the number of samples for each split\n",
    "num_samples = len(image_files)\n",
    "num_train = int(train_ratio * num_samples)\n",
    "num_test = int(test_ratio * num_samples)\n",
    "num_val = num_samples - num_train - num_test\n",
    "\n",
    "random.shuffle(image_files)\n",
    "\n",
    "train_files = image_files[:num_train]\n",
    "test_files = image_files[num_train:num_train + num_test]\n",
    "val_files = image_files[num_train + num_test:]\n",
    "\n",
    "# Move corresponding txt files along with images\n",
    "for folder, files in [(train_folder, train_files), (test_folder, test_files), (val_folder, val_files)]:\n",
    "    for file in files:\n",
    "        # Move image file\n",
    "        source_image_path = os.path.join(source_folder, file)\n",
    "        destination_image_path = os.path.join(folder, file)\n",
    "        shutil.move(source_image_path, destination_image_path)\n",
    "        \n",
    "        # Move corresponding txt file\n",
    "        txt_file = os.path.splitext(file)[0] + \".txt\"\n",
    "        source_txt_path = os.path.join(source_folder, txt_file)\n",
    "        destination_txt_path = os.path.join(folder, txt_file)\n",
    "        shutil.move(source_txt_path, destination_txt_path)\n",
    "\n",
    "print(\"Data split into train, test, and val sets.\")"
   ]
  },
  {
   "cell_type": "code",
   "execution_count": 9,
   "metadata": {},
   "outputs": [
    {
     "name": "stdout",
     "output_type": "stream",
     "text": [
      "Datasets organized successfully.\n"
     ]
    }
   ],
   "source": [
    "# Organize the datasets into the following structure:\n",
    "# data\n",
    "# ├── train\n",
    "# │   ├── images\n",
    "# │   └── labels\n",
    "# ├── val\n",
    "# │   ├── images\n",
    "# │   └── labels\n",
    "# └── test\n",
    "#     ├── images\n",
    "#     └── labels\n",
    "\n",
    "\n",
    "datasets = ['train', 'val', 'test']\n",
    "source_folder = 'data'\n",
    "\n",
    "for dataset in datasets:\n",
    "\tdataset_folder = os.path.join(source_folder, dataset)\n",
    "\t\n",
    "\t# Create \"images\" and \"labels\" folders\n",
    "\timages_folder = os.path.join(dataset_folder, \"images\")\n",
    "\tlabels_folder = os.path.join(dataset_folder, \"labels\")\n",
    "\tos.makedirs(images_folder, exist_ok=True)\n",
    "\tos.makedirs(labels_folder, exist_ok=True)\n",
    "\t\n",
    "\t# Organize image and label files\n",
    "\tfor file in os.listdir(dataset_folder):\n",
    "\t\tif file.endswith(\".jpg\"):\n",
    "\t\t\timage_path = os.path.join(dataset_folder, file)\n",
    "\t\t\timage_destination = os.path.join(images_folder, file)\n",
    "\t\t\tshutil.move(image_path, image_destination)\n",
    "\t\telif file.endswith(\".txt\"):\n",
    "\t\t\tlabel_path = os.path.join(dataset_folder, file)\n",
    "\t\t\tlabel_destination = os.path.join(labels_folder, file)\n",
    "\t\t\tshutil.move(label_path, label_destination)\n",
    "\n",
    "print(\"Datasets organized successfully.\")"
   ]
  }
 ],
 "metadata": {
  "kernelspec": {
   "display_name": "parking-lot-prediction-FNjf05as",
   "language": "python",
   "name": "python3"
  },
  "language_info": {
   "codemirror_mode": {
    "name": "ipython",
    "version": 3
   },
   "file_extension": ".py",
   "mimetype": "text/x-python",
   "name": "python",
   "nbconvert_exporter": "python",
   "pygments_lexer": "ipython3",
   "version": "3.11.4"
  },
  "orig_nbformat": 4
 },
 "nbformat": 4,
 "nbformat_minor": 2
}
